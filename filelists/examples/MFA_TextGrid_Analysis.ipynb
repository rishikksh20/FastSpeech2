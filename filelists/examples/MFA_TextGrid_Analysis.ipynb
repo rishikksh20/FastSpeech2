{
  "nbformat": 4,
  "nbformat_minor": 0,
  "metadata": {
    "colab": {
      "name": "Copy of MFA_analysis.ipynb",
      "provenance": [],
      "collapsed_sections": []
    },
    "kernelspec": {
      "name": "python3",
      "display_name": "Python 3"
    }
  },
  "cells": [
    {
      "cell_type": "code",
      "metadata": {
        "id": "WqTkAc35sPk_",
        "colab_type": "code",
        "colab": {
          "base_uri": "https://localhost:8080/",
          "height": 85
        },
        "outputId": "3152e0ef-4787-4cc4-8206-2f50c85a6d2b"
      },
      "source": [
        "!pip install TextGrid"
      ],
      "execution_count": 3,
      "outputs": [
        {
          "output_type": "stream",
          "text": [
            "Collecting TextGrid\n",
            "  Downloading https://files.pythonhosted.org/packages/9f/9e/04fb27ec5ac287b203afd5b228bc7c4ec5b7d3d81c4422d57847e755b0cc/TextGrid-1.5-py3-none-any.whl\n",
            "Installing collected packages: TextGrid\n",
            "Successfully installed TextGrid-1.5\n"
          ],
          "name": "stdout"
        }
      ]
    },
    {
      "cell_type": "code",
      "metadata": {
        "id": "iPYKN8Zaz7cj",
        "colab_type": "code",
        "colab": {}
      },
      "source": [
        "import librosa\n",
        "import numpy as np"
      ],
      "execution_count": 4,
      "outputs": []
    },
    {
      "cell_type": "code",
      "metadata": {
        "id": "fNgn0Fftsf-r",
        "colab_type": "code",
        "colab": {}
      },
      "source": [
        "import textgrid\n",
        "tg = textgrid.TextGrid.fromFile('LJ001-0001.TextGrid') # upload your textgrid file"
      ],
      "execution_count": 8,
      "outputs": []
    },
    {
      "cell_type": "markdown",
      "metadata": {
        "id": "h94sUSo6Fy34",
        "colab_type": "text"
      },
      "source": [
        "# Text Grid File Structure, \n",
        ".TextGrid is a object of class textgrid, contains two items in our case\n",
        ">item [1]:\n",
        "    >>class = \"IntervalTier\"  \n",
        "    >>name = \"words\"\n",
        "\n",
        ">item [2]:\n",
        "\t\t>>class = \"IntervalTier\"  \n",
        "    >>name = \"phones\"\n",
        "\n",
        "Each of the items have words/phonemes and their corresponding duration in seconds\n",
        "\n",
        "tg[0] is of type \"textgrid.textgrid.IntervalTier\" and contains the words duration, on the other hand tg[1] contains phoneme duration"
      ]
    },
    {
      "cell_type": "code",
      "metadata": {
        "id": "OVRcp_krsoDr",
        "colab_type": "code",
        "colab": {
          "base_uri": "https://localhost:8080/",
          "height": 54
        },
        "outputId": "4aa52bc3-803b-4c23-93d4-82d3e670d4e8"
      },
      "source": [
        "tg # the duration of each phonemes in seconds but we want that duration is in stft (spectrogram) frames"
      ],
      "execution_count": 10,
      "outputs": [
        {
          "output_type": "execute_result",
          "data": {
            "text/plain": [
              "TextGrid(None, [IntervalTier(words, [Interval(0.0, 0.67, printing), Interval(0.67, 0.8, None), Interval(0.8, 1.0, in), Interval(1.0, 1.17, the), Interval(1.17, 1.49, only), Interval(1.49, 1.96, sense), Interval(1.96, 2.14, with), Interval(2.14, 2.39, which), Interval(2.39, 2.56, we), Interval(2.56, 2.75, are), Interval(2.75, 2.9, at), Interval(2.9, 3.27, present), Interval(3.27, 3.99, concerned), Interval(3.99, 4.41, None), Interval(4.41, 5.04, differs), Interval(5.04, 5.07, None), Interval(5.07, 5.27, from), Interval(5.27, 5.68, most), Interval(5.68, 5.83, if), Interval(5.83, 6.13, not), Interval(6.13, 6.32, from), Interval(6.32, 6.66, all), Interval(6.66, 6.8, the), Interval(6.8, 7.11, arts), Interval(7.11, 7.22, and), Interval(7.22, 7.81, crafts), Interval(7.81, 8.47, represented), Interval(8.47, 8.68, in), Interval(8.68, 8.83, the), Interval(8.83, 9.61, exhibition), Interval(9.61, 9.65501, None)]), IntervalTier(phones, [Interval(0.0, 0.04, P), Interval(0.04, 0.07, R), Interval(0.07, 0.19, IH1), Interval(0.19, 0.22, N), Interval(0.22, 0.3, T), Interval(0.3, 0.45, IH0), Interval(0.45, 0.67, NG), Interval(0.67, 0.8, sp), Interval(0.8, 0.94, IH1), Interval(0.94, 1.0, N), Interval(1.0, 1.04, DH), Interval(1.04, 1.17, IY0), Interval(1.17, 1.26, OW1), Interval(1.26, 1.35, N), Interval(1.35, 1.4, L), Interval(1.4, 1.49, IY0), Interval(1.49, 1.66, S), Interval(1.66, 1.78, EH1), Interval(1.78, 1.86, N), Interval(1.86, 1.96, S), Interval(1.96, 2.01, W), Interval(2.01, 2.05, IH0), Interval(2.05, 2.14, TH), Interval(2.14, 2.2, W), Interval(2.2, 2.29, IH1), Interval(2.29, 2.39, CH), Interval(2.39, 2.45, W), Interval(2.45, 2.56, IY1), Interval(2.56, 2.67, AA1), Interval(2.67, 2.75, R), Interval(2.75, 2.8, AE1), Interval(2.8, 2.9, T), Interval(2.9, 2.95, P), Interval(2.95, 3.0, R), Interval(3.0, 3.06, EH1), Interval(3.06, 3.14, Z), Interval(3.14, 3.18, AH0), Interval(3.18, 3.21, N), Interval(3.21, 3.27, T), Interval(3.27, 3.35, K), Interval(3.35, 3.39, AH0), Interval(3.39, 3.46, N), Interval(3.46, 3.61, S), Interval(3.61, 3.85, ER1), Interval(3.85, 3.9, N), Interval(3.9, 3.99, D), Interval(3.99, 4.41, sp), Interval(4.41, 4.49, D), Interval(4.49, 4.56, IH1), Interval(4.56, 4.65, F), Interval(4.65, 4.82, ER0), Interval(4.82, 5.04, Z), Interval(5.04, 5.07, sp), Interval(5.07, 5.13, F), Interval(5.13, 5.18, ER0), Interval(5.18, 5.27, M), Interval(5.27, 5.35, M), Interval(5.35, 5.51, OW1), Interval(5.51, 5.61, S), Interval(5.61, 5.68, T), Interval(5.68, 5.75, IH0), Interval(5.75, 5.83, F), Interval(5.83, 5.91, N), Interval(5.91, 6.0, AA1), Interval(6.0, 6.13, T), Interval(6.13, 6.17, F), Interval(6.17, 6.23, ER0), Interval(6.23, 6.32, M), Interval(6.32, 6.59, AO1), Interval(6.59, 6.66, L), Interval(6.66, 6.72, DH), Interval(6.72, 6.8, IY0), Interval(6.8, 6.9, AA1), Interval(6.9, 6.96, R), Interval(6.96, 7.05, T), Interval(7.05, 7.11, S), Interval(7.11, 7.16, AH0), Interval(7.16, 7.19, N), Interval(7.19, 7.22, D), Interval(7.22, 7.34, K), Interval(7.34, 7.39, R), Interval(7.39, 7.54, AE1), Interval(7.54, 7.64, F), Interval(7.64, 7.7, T), Interval(7.7, 7.81, S), Interval(7.81, 7.91, R), Interval(7.91, 7.96, EH2), Interval(7.96, 8.04, P), Interval(8.04, 8.07, R), Interval(8.07, 8.12, IH0), Interval(8.12, 8.21, Z), Interval(8.21, 8.26, EH1), Interval(8.26, 8.3, N), Interval(8.3, 8.37, T), Interval(8.37, 8.42, IH0), Interval(8.42, 8.47, D), Interval(8.47, 8.63, IH1), Interval(8.63, 8.68, N), Interval(8.68, 8.72, DH), Interval(8.72, 8.83, IY0), Interval(8.83, 8.88, EH2), Interval(8.88, 8.98, K), Interval(8.98, 9.05, S), Interval(9.05, 9.1, AH0), Interval(9.1, 9.17, B), Interval(9.17, 9.27, IH1), Interval(9.27, 9.38, SH), Interval(9.38, 9.45, AH0), Interval(9.45, 9.61, N), Interval(9.61, 9.65501, sp)])])"
            ]
          },
          "metadata": {
            "tags": []
          },
          "execution_count": 10
        }
      ]
    },
    {
      "cell_type": "code",
      "metadata": {
        "id": "jAq5gSeHDyo3",
        "colab_type": "code",
        "colab": {
          "base_uri": "https://localhost:8080/",
          "height": 34
        },
        "outputId": "7d695fa6-ad2e-4f92-be98-56ae8bb2be43"
      },
      "source": [
        "type(tg[0])"
      ],
      "execution_count": 14,
      "outputs": [
        {
          "output_type": "execute_result",
          "data": {
            "text/plain": [
              "textgrid.textgrid.IntervalTier"
            ]
          },
          "metadata": {
            "tags": []
          },
          "execution_count": 14
        }
      ]
    },
    {
      "cell_type": "code",
      "metadata": {
        "id": "D4mU2apRtM-p",
        "colab_type": "code",
        "colab": {
          "base_uri": "https://localhost:8080/",
          "height": 54
        },
        "outputId": "00a61ee5-3570-4f0f-e451-64a75d09e792"
      },
      "source": [
        "tg[1] # tg[0] for word level duration and tg[1] for phonemes level duration"
      ],
      "execution_count": 17,
      "outputs": [
        {
          "output_type": "execute_result",
          "data": {
            "text/plain": [
              "IntervalTier(phones, [Interval(0.0, 0.04, P), Interval(0.04, 0.07, R), Interval(0.07, 0.19, IH1), Interval(0.19, 0.22, N), Interval(0.22, 0.3, T), Interval(0.3, 0.45, IH0), Interval(0.45, 0.67, NG), Interval(0.67, 0.8, sp), Interval(0.8, 0.94, IH1), Interval(0.94, 1.0, N), Interval(1.0, 1.04, DH), Interval(1.04, 1.17, IY0), Interval(1.17, 1.26, OW1), Interval(1.26, 1.35, N), Interval(1.35, 1.4, L), Interval(1.4, 1.49, IY0), Interval(1.49, 1.66, S), Interval(1.66, 1.78, EH1), Interval(1.78, 1.86, N), Interval(1.86, 1.96, S), Interval(1.96, 2.01, W), Interval(2.01, 2.05, IH0), Interval(2.05, 2.14, TH), Interval(2.14, 2.2, W), Interval(2.2, 2.29, IH1), Interval(2.29, 2.39, CH), Interval(2.39, 2.45, W), Interval(2.45, 2.56, IY1), Interval(2.56, 2.67, AA1), Interval(2.67, 2.75, R), Interval(2.75, 2.8, AE1), Interval(2.8, 2.9, T), Interval(2.9, 2.95, P), Interval(2.95, 3.0, R), Interval(3.0, 3.06, EH1), Interval(3.06, 3.14, Z), Interval(3.14, 3.18, AH0), Interval(3.18, 3.21, N), Interval(3.21, 3.27, T), Interval(3.27, 3.35, K), Interval(3.35, 3.39, AH0), Interval(3.39, 3.46, N), Interval(3.46, 3.61, S), Interval(3.61, 3.85, ER1), Interval(3.85, 3.9, N), Interval(3.9, 3.99, D), Interval(3.99, 4.41, sp), Interval(4.41, 4.49, D), Interval(4.49, 4.56, IH1), Interval(4.56, 4.65, F), Interval(4.65, 4.82, ER0), Interval(4.82, 5.04, Z), Interval(5.04, 5.07, sp), Interval(5.07, 5.13, F), Interval(5.13, 5.18, ER0), Interval(5.18, 5.27, M), Interval(5.27, 5.35, M), Interval(5.35, 5.51, OW1), Interval(5.51, 5.61, S), Interval(5.61, 5.68, T), Interval(5.68, 5.75, IH0), Interval(5.75, 5.83, F), Interval(5.83, 5.91, N), Interval(5.91, 6.0, AA1), Interval(6.0, 6.13, T), Interval(6.13, 6.17, F), Interval(6.17, 6.23, ER0), Interval(6.23, 6.32, M), Interval(6.32, 6.59, AO1), Interval(6.59, 6.66, L), Interval(6.66, 6.72, DH), Interval(6.72, 6.8, IY0), Interval(6.8, 6.9, AA1), Interval(6.9, 6.96, R), Interval(6.96, 7.05, T), Interval(7.05, 7.11, S), Interval(7.11, 7.16, AH0), Interval(7.16, 7.19, N), Interval(7.19, 7.22, D), Interval(7.22, 7.34, K), Interval(7.34, 7.39, R), Interval(7.39, 7.54, AE1), Interval(7.54, 7.64, F), Interval(7.64, 7.7, T), Interval(7.7, 7.81, S), Interval(7.81, 7.91, R), Interval(7.91, 7.96, EH2), Interval(7.96, 8.04, P), Interval(8.04, 8.07, R), Interval(8.07, 8.12, IH0), Interval(8.12, 8.21, Z), Interval(8.21, 8.26, EH1), Interval(8.26, 8.3, N), Interval(8.3, 8.37, T), Interval(8.37, 8.42, IH0), Interval(8.42, 8.47, D), Interval(8.47, 8.63, IH1), Interval(8.63, 8.68, N), Interval(8.68, 8.72, DH), Interval(8.72, 8.83, IY0), Interval(8.83, 8.88, EH2), Interval(8.88, 8.98, K), Interval(8.98, 9.05, S), Interval(9.05, 9.1, AH0), Interval(9.1, 9.17, B), Interval(9.17, 9.27, IH1), Interval(9.27, 9.38, SH), Interval(9.38, 9.45, AH0), Interval(9.45, 9.61, N), Interval(9.61, 9.65501, sp)])"
            ]
          },
          "metadata": {
            "tags": []
          },
          "execution_count": 17
        }
      ]
    },
    {
      "cell_type": "code",
      "metadata": {
        "id": "9E9cTk4O6bQB",
        "colab_type": "code",
        "colab": {
          "base_uri": "https://localhost:8080/",
          "height": 34
        },
        "outputId": "83193ae9-64bf-46af-d51f-837052526732"
      },
      "source": [
        "tg[1][0] # Display each individual phonemes"
      ],
      "execution_count": 19,
      "outputs": [
        {
          "output_type": "execute_result",
          "data": {
            "text/plain": [
              "Interval(0.0, 0.04, P)"
            ]
          },
          "metadata": {
            "tags": []
          },
          "execution_count": 19
        }
      ]
    },
    {
      "cell_type": "code",
      "metadata": {
        "id": "BoM3l1EDw8_i",
        "colab_type": "code",
        "colab": {
          "base_uri": "https://localhost:8080/",
          "height": 34
        },
        "outputId": "08655eb8-28b8-411d-9f0e-f079e27d330a"
      },
      "source": [
        "tg[1][0].minTime # start time for each phonemes"
      ],
      "execution_count": 20,
      "outputs": [
        {
          "output_type": "execute_result",
          "data": {
            "text/plain": [
              "0.0"
            ]
          },
          "metadata": {
            "tags": []
          },
          "execution_count": 20
        }
      ]
    },
    {
      "cell_type": "code",
      "metadata": {
        "id": "9xgetGJWxrxh",
        "colab_type": "code",
        "colab": {
          "base_uri": "https://localhost:8080/",
          "height": 34
        },
        "outputId": "fd25ae06-456f-411e-937a-0b06cc804549"
      },
      "source": [
        "tg[1][0].maxTime # End time of phonemes"
      ],
      "execution_count": 21,
      "outputs": [
        {
          "output_type": "execute_result",
          "data": {
            "text/plain": [
              "0.04"
            ]
          },
          "metadata": {
            "tags": []
          },
          "execution_count": 21
        }
      ]
    },
    {
      "cell_type": "code",
      "metadata": {
        "id": "7CVSjhvsz06s",
        "colab_type": "code",
        "colab": {
          "base_uri": "https://localhost:8080/",
          "height": 35
        },
        "outputId": "ba74a728-9b2a-42dd-b48a-2c0f5a70b398"
      },
      "source": [
        "tg[1][0].mark # phonemes"
      ],
      "execution_count": 22,
      "outputs": [
        {
          "output_type": "execute_result",
          "data": {
            "application/vnd.google.colaboratory.intrinsic": {
              "type": "string"
            },
            "text/plain": [
              "'P'"
            ]
          },
          "metadata": {
            "tags": []
          },
          "execution_count": 22
        }
      ]
    },
    {
      "cell_type": "code",
      "metadata": {
        "id": "7tZrHxjjxH_D",
        "colab_type": "code",
        "colab": {}
      },
      "source": [
        "time_list = []\n",
        "phonemes = []\n",
        "time_list.append(0.0)\n",
        "for ph in tg[1]:\n",
        "  time_list.append(ph.maxTime)\n",
        "  phonemes.append(ph.mark)"
      ],
      "execution_count": 23,
      "outputs": []
    },
    {
      "cell_type": "code",
      "metadata": {
        "id": "q3-1MyKr4n9p",
        "colab_type": "code",
        "colab": {
          "base_uri": "https://localhost:8080/",
          "height": 86
        },
        "outputId": "afb539c0-bff0-4204-c43f-39ea9e5c2281"
      },
      "source": [
        "str(phonemes)"
      ],
      "execution_count": 24,
      "outputs": [
        {
          "output_type": "execute_result",
          "data": {
            "application/vnd.google.colaboratory.intrinsic": {
              "type": "string"
            },
            "text/plain": [
              "\"['P', 'R', 'IH1', 'N', 'T', 'IH0', 'NG', 'sp', 'IH1', 'N', 'DH', 'IY0', 'OW1', 'N', 'L', 'IY0', 'S', 'EH1', 'N', 'S', 'W', 'IH0', 'TH', 'W', 'IH1', 'CH', 'W', 'IY1', 'AA1', 'R', 'AE1', 'T', 'P', 'R', 'EH1', 'Z', 'AH0', 'N', 'T', 'K', 'AH0', 'N', 'S', 'ER1', 'N', 'D', 'sp', 'D', 'IH1', 'F', 'ER0', 'Z', 'sp', 'F', 'ER0', 'M', 'M', 'OW1', 'S', 'T', 'IH0', 'F', 'N', 'AA1', 'T', 'F', 'ER0', 'M', 'AO1', 'L', 'DH', 'IY0', 'AA1', 'R', 'T', 'S', 'AH0', 'N', 'D', 'K', 'R', 'AE1', 'F', 'T', 'S', 'R', 'EH2', 'P', 'R', 'IH0', 'Z', 'EH1', 'N', 'T', 'IH0', 'D', 'IH1', 'N', 'DH', 'IY0', 'EH2', 'K', 'S', 'AH0', 'B', 'IH1', 'SH', 'AH0', 'N', 'sp']\""
            ]
          },
          "metadata": {
            "tags": []
          },
          "execution_count": 24
        }
      ]
    },
    {
      "cell_type": "code",
      "metadata": {
        "id": "Q3enu3ns1JsR",
        "colab_type": "code",
        "colab": {
          "base_uri": "https://localhost:8080/",
          "height": 1000
        },
        "outputId": "0aca2390-f470-4190-902e-a57bb6498cba"
      },
      "source": [
        "# This time is in seconds, but we need stft frames not time\n",
        "time_list"
      ],
      "execution_count": 25,
      "outputs": [
        {
          "output_type": "execute_result",
          "data": {
            "text/plain": [
              "[0.0,\n",
              " 0.04,\n",
              " 0.07,\n",
              " 0.19,\n",
              " 0.22,\n",
              " 0.3,\n",
              " 0.45,\n",
              " 0.67,\n",
              " 0.8,\n",
              " 0.94,\n",
              " 1.0,\n",
              " 1.04,\n",
              " 1.17,\n",
              " 1.26,\n",
              " 1.35,\n",
              " 1.4,\n",
              " 1.49,\n",
              " 1.66,\n",
              " 1.78,\n",
              " 1.86,\n",
              " 1.96,\n",
              " 2.01,\n",
              " 2.05,\n",
              " 2.14,\n",
              " 2.2,\n",
              " 2.29,\n",
              " 2.39,\n",
              " 2.45,\n",
              " 2.56,\n",
              " 2.67,\n",
              " 2.75,\n",
              " 2.8,\n",
              " 2.9,\n",
              " 2.95,\n",
              " 3.0,\n",
              " 3.06,\n",
              " 3.14,\n",
              " 3.18,\n",
              " 3.21,\n",
              " 3.27,\n",
              " 3.35,\n",
              " 3.39,\n",
              " 3.46,\n",
              " 3.61,\n",
              " 3.85,\n",
              " 3.9,\n",
              " 3.99,\n",
              " 4.41,\n",
              " 4.49,\n",
              " 4.56,\n",
              " 4.65,\n",
              " 4.82,\n",
              " 5.04,\n",
              " 5.07,\n",
              " 5.13,\n",
              " 5.18,\n",
              " 5.27,\n",
              " 5.35,\n",
              " 5.51,\n",
              " 5.61,\n",
              " 5.68,\n",
              " 5.75,\n",
              " 5.83,\n",
              " 5.91,\n",
              " 6.0,\n",
              " 6.13,\n",
              " 6.17,\n",
              " 6.23,\n",
              " 6.32,\n",
              " 6.59,\n",
              " 6.66,\n",
              " 6.72,\n",
              " 6.8,\n",
              " 6.9,\n",
              " 6.96,\n",
              " 7.05,\n",
              " 7.11,\n",
              " 7.16,\n",
              " 7.19,\n",
              " 7.22,\n",
              " 7.34,\n",
              " 7.39,\n",
              " 7.54,\n",
              " 7.64,\n",
              " 7.7,\n",
              " 7.81,\n",
              " 7.91,\n",
              " 7.96,\n",
              " 8.04,\n",
              " 8.07,\n",
              " 8.12,\n",
              " 8.21,\n",
              " 8.26,\n",
              " 8.3,\n",
              " 8.37,\n",
              " 8.42,\n",
              " 8.47,\n",
              " 8.63,\n",
              " 8.68,\n",
              " 8.72,\n",
              " 8.83,\n",
              " 8.88,\n",
              " 8.98,\n",
              " 9.05,\n",
              " 9.1,\n",
              " 9.17,\n",
              " 9.27,\n",
              " 9.38,\n",
              " 9.45,\n",
              " 9.61,\n",
              " 9.65501]"
            ]
          },
          "metadata": {
            "tags": []
          },
          "execution_count": 25
        }
      ]
    },
    {
      "cell_type": "code",
      "metadata": {
        "id": "jwY8Un7c0qdh",
        "colab_type": "code",
        "colab": {}
      },
      "source": [
        "# Convert time into stft frames \n",
        "#  frames[i] = floor( times[i] * sr / hop_length )\n",
        "frames = librosa.core.time_to_frames(np.array(time_list), sr=22050, hop_length=256, n_fft=1024)"
      ],
      "execution_count": 29,
      "outputs": []
    },
    {
      "cell_type": "code",
      "metadata": {
        "id": "KqmC2Nsu065y",
        "colab_type": "code",
        "colab": {
          "base_uri": "https://localhost:8080/",
          "height": 170
        },
        "outputId": "e2b3ba07-ed6b-4d6b-a1fc-6afd2f22f4e2"
      },
      "source": [
        "frames # This is the frames in audio level, but we want difference of each phonemes frame"
      ],
      "execution_count": 30,
      "outputs": [
        {
          "output_type": "execute_result",
          "data": {
            "text/plain": [
              "array([ -2,   1,   4,  14,  16,  23,  36,  55,  66,  78,  84,  87,  98,\n",
              "       106, 114, 118, 126, 140, 151, 158, 166, 171, 174, 182, 187, 195,\n",
              "       203, 209, 218, 227, 234, 239, 247, 252, 256, 261, 268, 271, 274,\n",
              "       279, 286, 289, 296, 308, 329, 333, 341, 377, 384, 390, 398, 413,\n",
              "       432, 434, 439, 444, 451, 458, 472, 481, 487, 493, 500, 507, 514,\n",
              "       525, 529, 534, 542, 565, 571, 576, 583, 592, 597, 605, 610, 614,\n",
              "       617, 619, 630, 634, 647, 656, 661, 670, 679, 683, 690, 693, 697,\n",
              "       705, 709, 712, 718, 723, 727, 741, 745, 749, 758, 762, 771, 777,\n",
              "       781, 787, 796, 805, 811, 825, 829])"
            ]
          },
          "metadata": {
            "tags": []
          },
          "execution_count": 30
        }
      ]
    },
    {
      "cell_type": "code",
      "metadata": {
        "id": "j6ySTqSf1Bht",
        "colab_type": "code",
        "colab": {
          "base_uri": "https://localhost:8080/",
          "height": 173
        },
        "outputId": "88b59786-76e6-47e0-ae2f-f8e4bd7a362e"
      },
      "source": [
        "# Python code to demonstrate \n",
        "# to calculate difference \n",
        "# between adjacent elements in list \n",
        "  \n",
        "  \n",
        "# printing iniial_list \n",
        "print(\"intial_list\", str(frames)) \n",
        "  \n",
        "# Calculating difference list \n",
        "diff_list = [] \n",
        "  \n",
        "for i in range(1, frames.shape[0]): \n",
        "    diff_list.append(frames[i] - frames[i-1]) \n",
        "  \n",
        "# printing difference list \n",
        "print (\"difference list: \", str(diff_list)) "
      ],
      "execution_count": 31,
      "outputs": [
        {
          "output_type": "stream",
          "text": [
            "intial_list [ -2   1   4  14  16  23  36  55  66  78  84  87  98 106 114 118 126 140\n",
            " 151 158 166 171 174 182 187 195 203 209 218 227 234 239 247 252 256 261\n",
            " 268 271 274 279 286 289 296 308 329 333 341 377 384 390 398 413 432 434\n",
            " 439 444 451 458 472 481 487 493 500 507 514 525 529 534 542 565 571 576\n",
            " 583 592 597 605 610 614 617 619 630 634 647 656 661 670 679 683 690 693\n",
            " 697 705 709 712 718 723 727 741 745 749 758 762 771 777 781 787 796 805\n",
            " 811 825 829]\n",
            "difference list:  [3, 3, 10, 2, 7, 13, 19, 11, 12, 6, 3, 11, 8, 8, 4, 8, 14, 11, 7, 8, 5, 3, 8, 5, 8, 8, 6, 9, 9, 7, 5, 8, 5, 4, 5, 7, 3, 3, 5, 7, 3, 7, 12, 21, 4, 8, 36, 7, 6, 8, 15, 19, 2, 5, 5, 7, 7, 14, 9, 6, 6, 7, 7, 7, 11, 4, 5, 8, 23, 6, 5, 7, 9, 5, 8, 5, 4, 3, 2, 11, 4, 13, 9, 5, 9, 9, 4, 7, 3, 4, 8, 4, 3, 6, 5, 4, 14, 4, 4, 9, 4, 9, 6, 4, 6, 9, 9, 6, 14, 4]\n"
          ],
          "name": "stdout"
        }
      ]
    },
    {
      "cell_type": "code",
      "metadata": {
        "id": "cl9nL_yV4UTz",
        "colab_type": "code",
        "colab": {
          "base_uri": "https://localhost:8080/",
          "height": 52
        },
        "outputId": "bde6f481-b76d-4faa-9cf2-1ef6ef4f2032"
      },
      "source": [
        "str(np.array(diff_list))"
      ],
      "execution_count": 32,
      "outputs": [
        {
          "output_type": "execute_result",
          "data": {
            "application/vnd.google.colaboratory.intrinsic": {
              "type": "string"
            },
            "text/plain": [
              "'[ 3  3 10  2  7 13 19 11 12  6  3 11  8  8  4  8 14 11  7  8  5  3  8  5\\n  8  8  6  9  9  7  5  8  5  4  5  7  3  3  5  7  3  7 12 21  4  8 36  7\\n  6  8 15 19  2  5  5  7  7 14  9  6  6  7  7  7 11  4  5  8 23  6  5  7\\n  9  5  8  5  4  3  2 11  4 13  9  5  9  9  4  7  3  4  8  4  3  6  5  4\\n 14  4  4  9  4  9  6  4  6  9  9  6 14  4]'"
            ]
          },
          "metadata": {
            "tags": []
          },
          "execution_count": 32
        }
      ]
    },
    {
      "cell_type": "code",
      "metadata": {
        "id": "q6C7_yrO16Uq",
        "colab_type": "code",
        "colab": {
          "base_uri": "https://localhost:8080/",
          "height": 1000
        },
        "outputId": "4a4efa44-49d2-4573-85cb-2bd2bc92bd3e"
      },
      "source": [
        "# List of output frame per phonemes\n",
        "for p, d in zip(phonemes, diff_list): \n",
        "  print(\"Phonemes : {} --> Duration : {} frames\".format(p,d))"
      ],
      "execution_count": 34,
      "outputs": [
        {
          "output_type": "stream",
          "text": [
            "Phonemes : P --> Duration : 3 frames\n",
            "Phonemes : R --> Duration : 3 frames\n",
            "Phonemes : IH1 --> Duration : 10 frames\n",
            "Phonemes : N --> Duration : 2 frames\n",
            "Phonemes : T --> Duration : 7 frames\n",
            "Phonemes : IH0 --> Duration : 13 frames\n",
            "Phonemes : NG --> Duration : 19 frames\n",
            "Phonemes : sp --> Duration : 11 frames\n",
            "Phonemes : IH1 --> Duration : 12 frames\n",
            "Phonemes : N --> Duration : 6 frames\n",
            "Phonemes : DH --> Duration : 3 frames\n",
            "Phonemes : IY0 --> Duration : 11 frames\n",
            "Phonemes : OW1 --> Duration : 8 frames\n",
            "Phonemes : N --> Duration : 8 frames\n",
            "Phonemes : L --> Duration : 4 frames\n",
            "Phonemes : IY0 --> Duration : 8 frames\n",
            "Phonemes : S --> Duration : 14 frames\n",
            "Phonemes : EH1 --> Duration : 11 frames\n",
            "Phonemes : N --> Duration : 7 frames\n",
            "Phonemes : S --> Duration : 8 frames\n",
            "Phonemes : W --> Duration : 5 frames\n",
            "Phonemes : IH0 --> Duration : 3 frames\n",
            "Phonemes : TH --> Duration : 8 frames\n",
            "Phonemes : W --> Duration : 5 frames\n",
            "Phonemes : IH1 --> Duration : 8 frames\n",
            "Phonemes : CH --> Duration : 8 frames\n",
            "Phonemes : W --> Duration : 6 frames\n",
            "Phonemes : IY1 --> Duration : 9 frames\n",
            "Phonemes : AA1 --> Duration : 9 frames\n",
            "Phonemes : R --> Duration : 7 frames\n",
            "Phonemes : AE1 --> Duration : 5 frames\n",
            "Phonemes : T --> Duration : 8 frames\n",
            "Phonemes : P --> Duration : 5 frames\n",
            "Phonemes : R --> Duration : 4 frames\n",
            "Phonemes : EH1 --> Duration : 5 frames\n",
            "Phonemes : Z --> Duration : 7 frames\n",
            "Phonemes : AH0 --> Duration : 3 frames\n",
            "Phonemes : N --> Duration : 3 frames\n",
            "Phonemes : T --> Duration : 5 frames\n",
            "Phonemes : K --> Duration : 7 frames\n",
            "Phonemes : AH0 --> Duration : 3 frames\n",
            "Phonemes : N --> Duration : 7 frames\n",
            "Phonemes : S --> Duration : 12 frames\n",
            "Phonemes : ER1 --> Duration : 21 frames\n",
            "Phonemes : N --> Duration : 4 frames\n",
            "Phonemes : D --> Duration : 8 frames\n",
            "Phonemes : sp --> Duration : 36 frames\n",
            "Phonemes : D --> Duration : 7 frames\n",
            "Phonemes : IH1 --> Duration : 6 frames\n",
            "Phonemes : F --> Duration : 8 frames\n",
            "Phonemes : ER0 --> Duration : 15 frames\n",
            "Phonemes : Z --> Duration : 19 frames\n",
            "Phonemes : sp --> Duration : 2 frames\n",
            "Phonemes : F --> Duration : 5 frames\n",
            "Phonemes : ER0 --> Duration : 5 frames\n",
            "Phonemes : M --> Duration : 7 frames\n",
            "Phonemes : M --> Duration : 7 frames\n",
            "Phonemes : OW1 --> Duration : 14 frames\n",
            "Phonemes : S --> Duration : 9 frames\n",
            "Phonemes : T --> Duration : 6 frames\n",
            "Phonemes : IH0 --> Duration : 6 frames\n",
            "Phonemes : F --> Duration : 7 frames\n",
            "Phonemes : N --> Duration : 7 frames\n",
            "Phonemes : AA1 --> Duration : 7 frames\n",
            "Phonemes : T --> Duration : 11 frames\n",
            "Phonemes : F --> Duration : 4 frames\n",
            "Phonemes : ER0 --> Duration : 5 frames\n",
            "Phonemes : M --> Duration : 8 frames\n",
            "Phonemes : AO1 --> Duration : 23 frames\n",
            "Phonemes : L --> Duration : 6 frames\n",
            "Phonemes : DH --> Duration : 5 frames\n",
            "Phonemes : IY0 --> Duration : 7 frames\n",
            "Phonemes : AA1 --> Duration : 9 frames\n",
            "Phonemes : R --> Duration : 5 frames\n",
            "Phonemes : T --> Duration : 8 frames\n",
            "Phonemes : S --> Duration : 5 frames\n",
            "Phonemes : AH0 --> Duration : 4 frames\n",
            "Phonemes : N --> Duration : 3 frames\n",
            "Phonemes : D --> Duration : 2 frames\n",
            "Phonemes : K --> Duration : 11 frames\n",
            "Phonemes : R --> Duration : 4 frames\n",
            "Phonemes : AE1 --> Duration : 13 frames\n",
            "Phonemes : F --> Duration : 9 frames\n",
            "Phonemes : T --> Duration : 5 frames\n",
            "Phonemes : S --> Duration : 9 frames\n",
            "Phonemes : R --> Duration : 9 frames\n",
            "Phonemes : EH2 --> Duration : 4 frames\n",
            "Phonemes : P --> Duration : 7 frames\n",
            "Phonemes : R --> Duration : 3 frames\n",
            "Phonemes : IH0 --> Duration : 4 frames\n",
            "Phonemes : Z --> Duration : 8 frames\n",
            "Phonemes : EH1 --> Duration : 4 frames\n",
            "Phonemes : N --> Duration : 3 frames\n",
            "Phonemes : T --> Duration : 6 frames\n",
            "Phonemes : IH0 --> Duration : 5 frames\n",
            "Phonemes : D --> Duration : 4 frames\n",
            "Phonemes : IH1 --> Duration : 14 frames\n",
            "Phonemes : N --> Duration : 4 frames\n",
            "Phonemes : DH --> Duration : 4 frames\n",
            "Phonemes : IY0 --> Duration : 9 frames\n",
            "Phonemes : EH2 --> Duration : 4 frames\n",
            "Phonemes : K --> Duration : 9 frames\n",
            "Phonemes : S --> Duration : 6 frames\n",
            "Phonemes : AH0 --> Duration : 4 frames\n",
            "Phonemes : B --> Duration : 6 frames\n",
            "Phonemes : IH1 --> Duration : 9 frames\n",
            "Phonemes : SH --> Duration : 9 frames\n",
            "Phonemes : AH0 --> Duration : 6 frames\n",
            "Phonemes : N --> Duration : 14 frames\n",
            "Phonemes : sp --> Duration : 4 frames\n"
          ],
          "name": "stdout"
        }
      ]
    },
    {
      "cell_type": "code",
      "metadata": {
        "id": "tYaTeKGr3Ypy",
        "colab_type": "code",
        "colab": {}
      },
      "source": [
        "# For creating filelists output is in following format :\n",
        "# text | frames | frame diff (diff_list) |phonemes | filename.wav\n",
        "# one can iterate through a bigger for loop to cover all the .TextGrid Files\n",
        "file_name = ['LJ001-0001']\n",
        "words = []\n",
        "phon = []\n",
        "seperator = [\"|\"]\n",
        "for ph in tg[1]:    #replace sp with pau\n",
        "  if (ph.mark == \"sp\"):\n",
        "    ph.mark = \"pau\"\n",
        "\n",
        "for word, ph in zip(tg[0],tg[1]):\n",
        "  words.append(word.mark)         #get list of words and phonemes\n",
        "  phon.append(ph.mark)\n",
        "\n",
        "#frames = list(frames)\n",
        "\n",
        "raw_lists_concat = words + seperator + frames + seperator + diff_list + seperator + phon + file_name \n",
        "\n",
        "Filelist_content = ' '.join([str(elem) for elem in raw_lists_concat])\n"
      ],
      "execution_count": 70,
      "outputs": []
    },
    {
      "cell_type": "code",
      "metadata": {
        "id": "IlGD4w1XQUJg",
        "colab_type": "code",
        "colab": {
          "base_uri": "https://localhost:8080/",
          "height": 103
        },
        "outputId": "b6b06530-bf92-4d8d-b67e-81c4c9e9a418"
      },
      "source": [
        "Filelist_content"
      ],
      "execution_count": 71,
      "outputs": [
        {
          "output_type": "execute_result",
          "data": {
            "application/vnd.google.colaboratory.intrinsic": {
              "type": "string"
            },
            "text/plain": [
              "'printing  in the only sense with which we are at present concerned  differs  from most if not from all the arts and crafts represented in the exhibition  | -2 1 4 14 16 23 36 55 66 78 84 87 98 106 114 118 126 140 151 158 166 171 174 182 187 195 203 209 218 227 234 239 247 252 256 261 268 271 274 279 286 289 296 308 329 333 341 377 384 390 398 413 432 434 439 444 451 458 472 481 487 493 500 507 514 525 529 534 542 565 571 576 583 592 597 605 610 614 617 619 630 634 647 656 661 670 679 683 690 693 697 705 709 712 718 723 727 741 745 749 758 762 771 777 781 787 796 805 811 825 829 | 3 3 10 2 7 13 19 11 12 6 3 11 8 8 4 8 14 11 7 8 5 3 8 5 8 8 6 9 9 7 5 8 5 4 5 7 3 3 5 7 3 7 12 21 4 8 36 7 6 8 15 19 2 5 5 7 7 14 9 6 6 7 7 7 11 4 5 8 23 6 5 7 9 5 8 5 4 3 2 11 4 13 9 5 9 9 4 7 3 4 8 4 3 6 5 4 14 4 4 9 4 9 6 4 6 9 9 6 14 4 | P R IH1 N T IH0 NG pau IH1 N DH IY0 OW1 N L IY0 S EH1 N S W IH0 TH W IH1 CH W IY1 AA1 R AE1 LJ001-0001'"
            ]
          },
          "metadata": {
            "tags": []
          },
          "execution_count": 71
        }
      ]
    },
    {
      "cell_type": "code",
      "metadata": {
        "id": "GYil0Wrd4Jp3",
        "colab_type": "code",
        "colab": {}
      },
      "source": [
        "# For example\n",
        "# he consistently refused to admit involvement in the assassination or in the killing of patrolman tippit.|  -2   0   8  13  16  22  35  41  47  55  59  62  70  76  82  91  97 110 121 136 143 151 161 170 174 180 186 193 198 201 209 216 225 234 240 248 253 258 262 266 281 286 289 297 303 314 324 333 337 342 353 364 371 382 401 439 445 449 453 457 463 473 477 486 490 495 498 505 513 519 523 534 538 543 550 554 558 565 574 580 588 590 612 614 | 2  8  5  3  6 13  6  6  8  4  3  8  6  6  9  6 13 11 15  7  8 10  9  4  6  6  7  5  3  8  7  9  9  6  8  5  5  4  4 15  5  3  8  6 11 10  9  4  5 11 11  7 11 19 38  6  4  4  4  6 10  4  9  4  5  3  7  8  6  4 11  4  5  7  4  4  7  9  6  8  2 22  2 | 'HH', 'IY1', 'K', 'AH0', 'N', 'S', 'IH1', 'S', 'T', 'AH0', 'N', 'T', 'L', 'IY0', 'R', 'IH0', 'F', 'Y', 'UW1', 'Z', 'D', 'T', 'UW1', 'AH0', 'D', 'M', 'IH1', 'T', 'sp', 'IH0', 'N', 'V', 'AA1', 'L', 'V', 'M', 'AH0', 'N', 'T', 'IH1', 'N', 'DH', 'IY0', 'AH0', 'S', 'AE2', 'S', 'AH0', 'N', 'EY1', 'SH', 'AH0', 'N', 'sp', 'AO1', 'R', 'IH0', 'N', 'DH', 'IY0', 'K', 'IH1', 'L', 'IH0', 'NG', 'sp', 'AH1', 'V', 'P', 'AH0', 'T', 'R', 'OW1', 'L', 'M', 'AE2', 'N', 'T', 'IH1', 'P', 'IH0', 'T', 'sp' | LJ045-0233.wav"
      ],
      "execution_count": null,
      "outputs": []
    },
    {
      "cell_type": "code",
      "metadata": {
        "id": "o6fhyLvn47xg",
        "colab_type": "code",
        "colab": {}
      },
      "source": [
        "# In Phonemes replace 'sp' (which means silences in wav file in phonemes term) with 'pau' and also treat each phonemes as symbols after that phonemes look like this :\n",
        "HH IY1 K AH0 N S IH1 S T AH0 N T L IY0 R IH0 F Y UW1 Z D T UW1 AH0 D M IH1 T IH0 N V AA1 L V M AH0 N T IH0 N DH IY0 AH0 S AE1 S AH0 N EY1 SH AH0 N pau AO1 R IH1 N DH IY0 K IH1 L IH0 NG pau AH1 V P AH0 T R OW1 L M AE1 N T IH1 P IH0 T pau"
      ],
      "execution_count": null,
      "outputs": []
    }
  ]
}