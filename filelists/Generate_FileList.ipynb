{
 "cells": [
  {
   "cell_type": "code",
   "execution_count": 3,
   "metadata": {},
   "outputs": [],
   "source": [
    "#cd .. change the directory to fs2 if it is not your pwd"
   ]
  },
  {
   "cell_type": "code",
   "execution_count": 5,
   "metadata": {},
   "outputs": [],
   "source": [
    "import numpy as np\n",
    "import hparams as hp\n",
    "import librosa\n",
    "import textgrid\n",
    "from utils.files import get_files"
   ]
  },
  {
   "cell_type": "code",
   "execution_count": 6,
   "metadata": {},
   "outputs": [],
   "source": [
    "a = get_files(hp.path_to_TextGrid, extension= \".TextGrid\")"
   ]
  },
  {
   "cell_type": "code",
   "execution_count": 7,
   "metadata": {},
   "outputs": [],
   "source": [
    "for i in range(0, len(a)):\n",
    "    tgrid = textgrid.TextGrid.fromFile(a[i])\n",
    "    time_list = []\n",
    "    phonemes = []\n",
    "    words = []\n",
    "    seperator = ['|']\n",
    "    diff_list = []\n",
    "    frames = []\n",
    "    wav = [\".wav\"]\n",
    "    file_name  = []\n",
    "    file_name.append((a[i].split(\"\\\\\")[-1].split(\".\")[0]) + \".wav\")\n",
    "    time_list.append(0.0)\n",
    "    for ph in tgrid[1]:\n",
    "        time_list.append(ph.maxTime)\n",
    "        if (ph.mark == \"sp\"):\n",
    "            ph.mark = \"pau\"\n",
    "        phonemes.append(ph.mark)\n",
    "    \n",
    "    frames = librosa.core.time_to_frames(np.array(time_list), sr = hp.sample_rate, hop_length = hp.hop_length,  n_fft= hp.n_fft )\n",
    "    \n",
    "    for j in range(1, frames.shape[0]):\n",
    "        diff_list.append(frames[j] - frames[j-1])\n",
    "    for word in (tgrid[0]):\n",
    "        words.append(word.mark)\n",
    "    raw_lists_concat = words + seperator + list(frames) + seperator + list(diff_list) + seperator + phonemes + seperator + file_name\n",
    "    Filelist_content = ' '.join([str(elem) for elem in raw_lists_concat]) + \"\\n\"\n",
    "    if (i < 10):\n",
    "        with open(hp.path_to_filelist + \"filelist_valid.txt\", \"a\") as f:\n",
    "            f.write(Filelist_content)\n",
    "    else:\n",
    "        with open(hp.path_to_filelist + \"filelist_train.txt\", \"a\") as f_:\n",
    "            f_.write(Filelist_content)\n",
    "        "
   ]
  },
  {
   "cell_type": "code",
   "execution_count": null,
   "metadata": {},
   "outputs": [],
   "source": []
  }
 ],
 "metadata": {
  "kernelspec": {
   "display_name": "Python 3",
   "language": "python",
   "name": "python3"
  },
  "language_info": {
   "codemirror_mode": {
    "name": "ipython",
    "version": 3
   },
   "file_extension": ".py",
   "mimetype": "text/x-python",
   "name": "python",
   "nbconvert_exporter": "python",
   "pygments_lexer": "ipython3",
   "version": "3.7.7"
  }
 },
 "nbformat": 4,
 "nbformat_minor": 4
}
